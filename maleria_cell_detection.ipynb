{
  "nbformat": 4,
  "nbformat_minor": 0,
  "metadata": {
    "colab": {
      "name": "Untitled0.ipynb",
      "provenance": []
    },
    "kernelspec": {
      "name": "python3",
      "display_name": "Python 3"
    },
    "language_info": {
      "name": "python"
    }
  },
  "cells": [
    {
      "cell_type": "markdown",
      "metadata": {
        "id": "NUPWTfo86EG5"
      },
      "source": [
        "importing the required libraries\n"
      ]
    },
    {
      "cell_type": "code",
      "metadata": {
        "id": "jFgISuNl5_v1"
      },
      "source": [
        "\n",
        "import numpy as np\n",
        "np.random.seed(1000)\n",
        "import matplotlib.pyplot as plt\n",
        "import os\n",
        "import cv2\n",
        "from PIL import Image\n",
        "import keras\n",
        "from sklearn.model_selection import train_test_split\n",
        "from tensorflow.keras.utils import to_categorical"
      ],
      "execution_count": 16,
      "outputs": []
    },
    {
      "cell_type": "markdown",
      "metadata": {
        "id": "tK_4THUT6RPL"
      },
      "source": [
        "connecting the keras with tensorflow backend"
      ]
    },
    {
      "cell_type": "code",
      "metadata": {
        "id": "0oY314AF6VVQ"
      },
      "source": [
        "os.environ['KERAS_BACKEND'] = 'tensorflow'"
      ],
      "execution_count": 2,
      "outputs": []
    },
    {
      "cell_type": "markdown",
      "metadata": {
        "id": "jbjahoBz6a7o"
      },
      "source": [
        "Iterate through all images in Parasitized folder, resize to 64 x 64\n",
        "Then save as numpy array with name 'dataset'\n",
        "Set the label to this as 0\n"
      ]
    },
    {
      "cell_type": "code",
      "metadata": {
        "id": "HxVqSj4L6jj3"
      },
      "source": [
        "image_directory = 'cell_images2/'\n",
        "SIZE = 64\n",
        "dataset = [] \n",
        "label = []  #Place holders to define add labels."
      ],
      "execution_count": 3,
      "outputs": []
    },
    {
      "cell_type": "markdown",
      "metadata": {
        "id": "D2pcvJK065hn"
      },
      "source": [
        " We will add 0 to all parasitized images and 1 to uninfected."
      ]
    },
    {
      "cell_type": "code",
      "metadata": {
        "id": "1H7my9Vx667W"
      },
      "source": [
        "parasitized_images = os.listdir(image_directory + 'Parasitized/')\n",
        "for i, image_name in enumerate(parasitized_images):\n",
        "    \n",
        "    if (image_name.split('.')[1] == 'png'):\n",
        "        image = cv2.imread(image_directory + 'Parasitized/' + image_name)\n",
        "        image = Image.fromarray(image, 'RGB')\n",
        "        image = image.resize((SIZE, SIZE))\n",
        "        dataset.append(np.array(image))\n",
        "        label.append(0)"
      ],
      "execution_count": 4,
      "outputs": []
    },
    {
      "cell_type": "code",
      "metadata": {
        "id": "hrJgBuDC89Hi"
      },
      "source": [
        "uninfected_images = os.listdir(image_directory + 'Uninfected/')\n",
        "for i, image_name in enumerate(uninfected_images):\n",
        "    if (image_name.split('.')[1] == 'png'):\n",
        "        image = cv2.imread(image_directory + 'Uninfected/' + image_name)\n",
        "        image = Image.fromarray(image, 'RGB')\n",
        "        image = image.resize((SIZE, SIZE))\n",
        "        dataset.append(np.array(image))\n",
        "        label.append(1)"
      ],
      "execution_count": 5,
      "outputs": []
    },
    {
      "cell_type": "markdown",
      "metadata": {
        "id": "2M5vEch_9UNA"
      },
      "source": [
        "making the CNN model\n"
      ]
    },
    {
      "cell_type": "code",
      "metadata": {
        "id": "8p_Hx0yc9WTj"
      },
      "source": [
        "INPUT_SHAPE = (SIZE, SIZE, 3)\n",
        "inp = keras.layers.Input(shape=INPUT_SHAPE)\n",
        "\n",
        "conv1 = keras.layers.Conv2D(32, kernel_size=(3, 3),activation='relu', padding='same')(inp)\n",
        "pool1 = keras.layers.MaxPooling2D(pool_size=(2, 2))(conv1)\n",
        "norm1 = keras.layers.BatchNormalization(axis = -1)(pool1)\n",
        "drop1 = keras.layers.Dropout(rate=0.2)(norm1)\n",
        "conv2 = keras.layers.Conv2D(32, kernel_size=(3, 3), activation='relu', padding='same')(drop1)\n",
        "pool2 = keras.layers.MaxPooling2D(pool_size=(2, 2))(conv2)\n",
        "norm2 = keras.layers.BatchNormalization(axis = -1)(pool2)\n",
        "drop2 = keras.layers.Dropout(rate=0.2)(norm2)\n"
      ],
      "execution_count": 6,
      "outputs": []
    },
    {
      "cell_type": "markdown",
      "metadata": {
        "id": "ptmT06ib9k3v"
      },
      "source": [
        "Flatten the matrix to get it ready for dense."
      ]
    },
    {
      "cell_type": "code",
      "metadata": {
        "id": "mUhm54tr9lrt"
      },
      "source": [
        "flat = keras.layers.Flatten()(drop2)\n",
        "hidden1 = keras.layers.Dense(512, activation='relu')(flat)\n",
        "norm3 = keras.layers.BatchNormalization(axis = -1)(hidden1)\n",
        "drop3 = keras.layers.Dropout(rate=0.2)(norm3)\n",
        "hidden2 = keras.layers.Dense(256, activation='relu')(drop3)\n",
        "norm4 = keras.layers.BatchNormalization(axis = -1)(hidden2)\n",
        "drop4 = keras.layers.Dropout(rate=0.2)(norm4)"
      ],
      "execution_count": 8,
      "outputs": []
    },
    {
      "cell_type": "markdown",
      "metadata": {
        "id": "l-WD4BH391pm"
      },
      "source": [
        "for output layer of the model"
      ]
    },
    {
      "cell_type": "code",
      "metadata": {
        "id": "YLkNlWPT94xp"
      },
      "source": [
        "out = keras.layers.Dense(2, activation='sigmoid')(drop4)"
      ],
      "execution_count": 10,
      "outputs": []
    },
    {
      "cell_type": "markdown",
      "metadata": {
        "id": "z6nQDdot99Oh"
      },
      "source": [
        "calculating the summary of the model"
      ]
    },
    {
      "cell_type": "code",
      "metadata": {
        "colab": {
          "base_uri": "https://localhost:8080/"
        },
        "id": "-_8wXE2e-FvS",
        "outputId": "af8a547b-3999-4e6f-fbbe-5df49ed5a163"
      },
      "source": [
        "model = keras.Model(inputs=inp, outputs=out)\n",
        "model.compile(optimizer='adam',loss='categorical_crossentropy',metrics=['accuracy'])\n",
        "print(model.summary())"
      ],
      "execution_count": 11,
      "outputs": [
        {
          "output_type": "stream",
          "text": [
            "Model: \"model\"\n",
            "_________________________________________________________________\n",
            "Layer (type)                 Output Shape              Param #   \n",
            "=================================================================\n",
            "input_1 (InputLayer)         [(None, 64, 64, 3)]       0         \n",
            "_________________________________________________________________\n",
            "conv2d (Conv2D)              (None, 64, 64, 32)        896       \n",
            "_________________________________________________________________\n",
            "max_pooling2d (MaxPooling2D) (None, 32, 32, 32)        0         \n",
            "_________________________________________________________________\n",
            "batch_normalization (BatchNo (None, 32, 32, 32)        128       \n",
            "_________________________________________________________________\n",
            "dropout (Dropout)            (None, 32, 32, 32)        0         \n",
            "_________________________________________________________________\n",
            "conv2d_1 (Conv2D)            (None, 32, 32, 32)        9248      \n",
            "_________________________________________________________________\n",
            "max_pooling2d_1 (MaxPooling2 (None, 16, 16, 32)        0         \n",
            "_________________________________________________________________\n",
            "batch_normalization_1 (Batch (None, 16, 16, 32)        128       \n",
            "_________________________________________________________________\n",
            "dropout_1 (Dropout)          (None, 16, 16, 32)        0         \n",
            "_________________________________________________________________\n",
            "flatten (Flatten)            (None, 8192)              0         \n",
            "_________________________________________________________________\n",
            "dense_1 (Dense)              (None, 512)               4194816   \n",
            "_________________________________________________________________\n",
            "batch_normalization_2 (Batch (None, 512)               2048      \n",
            "_________________________________________________________________\n",
            "dropout_2 (Dropout)          (None, 512)               0         \n",
            "_________________________________________________________________\n",
            "dense_2 (Dense)              (None, 256)               131328    \n",
            "_________________________________________________________________\n",
            "batch_normalization_3 (Batch (None, 256)               1024      \n",
            "_________________________________________________________________\n",
            "dropout_3 (Dropout)          (None, 256)               0         \n",
            "_________________________________________________________________\n",
            "dense_3 (Dense)              (None, 2)                 514       \n",
            "=================================================================\n",
            "Total params: 4,340,130\n",
            "Trainable params: 4,338,466\n",
            "Non-trainable params: 1,664\n",
            "_________________________________________________________________\n",
            "None\n"
          ],
          "name": "stdout"
        }
      ]
    },
    {
      "cell_type": "markdown",
      "metadata": {
        "id": "UmXGNrkE-ZTM"
      },
      "source": [
        "spliting of the data set"
      ]
    },
    {
      "cell_type": "code",
      "metadata": {
        "id": "uecHmBTF-Wog"
      },
      "source": [
        "X_train, X_test, y_train, y_test = train_test_split(dataset, to_categorical(np.array(label)), test_size = 0.20, random_state = 0)"
      ],
      "execution_count": 17,
      "outputs": []
    },
    {
      "cell_type": "markdown",
      "metadata": {
        "id": "PrqFGuwfA1gv"
      },
      "source": [
        "fitting the input data to the model"
      ]
    },
    {
      "cell_type": "code",
      "metadata": {
        "colab": {
          "base_uri": "https://localhost:8080/"
        },
        "id": "jltARnfiA1xj",
        "outputId": "89644090-db9f-4567-ba78-5f6e04712a67"
      },
      "source": [
        "history = model.fit(np.array(X_train), \n",
        "                         y_train, \n",
        "                         batch_size = 64, \n",
        "                         verbose = 1, \n",
        "                         epochs = 30,     \n",
        "                         validation_split = 0.1,\n",
        "                         shuffle = False)\n"
      ],
      "execution_count": 18,
      "outputs": [
        {
          "output_type": "stream",
          "text": [
            "Epoch 1/30\n",
            "12/12 [==============================] - 25s 451ms/step - loss: 1.1539 - accuracy: 0.5746 - val_loss: 32.8524 - val_accuracy: 0.5625\n",
            "Epoch 2/30\n",
            "12/12 [==============================] - 5s 376ms/step - loss: 0.4292 - accuracy: 0.8040 - val_loss: 24.3856 - val_accuracy: 0.5875\n",
            "Epoch 3/30\n",
            "12/12 [==============================] - 5s 377ms/step - loss: 0.3240 - accuracy: 0.8644 - val_loss: 13.8113 - val_accuracy: 0.6000\n",
            "Epoch 4/30\n",
            "12/12 [==============================] - 5s 376ms/step - loss: 0.2201 - accuracy: 0.9082 - val_loss: 9.5621 - val_accuracy: 0.6625\n",
            "Epoch 5/30\n",
            "12/12 [==============================] - 5s 376ms/step - loss: 0.1605 - accuracy: 0.9413 - val_loss: 7.4953 - val_accuracy: 0.7125\n",
            "Epoch 6/30\n",
            "12/12 [==============================] - 5s 374ms/step - loss: 0.1080 - accuracy: 0.9548 - val_loss: 4.8855 - val_accuracy: 0.7125\n",
            "Epoch 7/30\n",
            "12/12 [==============================] - 4s 373ms/step - loss: 0.0861 - accuracy: 0.9752 - val_loss: 4.7219 - val_accuracy: 0.7125\n",
            "Epoch 8/30\n",
            "12/12 [==============================] - 5s 375ms/step - loss: 0.0547 - accuracy: 0.9799 - val_loss: 3.0286 - val_accuracy: 0.6250\n",
            "Epoch 9/30\n",
            "12/12 [==============================] - 5s 375ms/step - loss: 0.0467 - accuracy: 0.9856 - val_loss: 3.1600 - val_accuracy: 0.6125\n",
            "Epoch 10/30\n",
            "12/12 [==============================] - 5s 374ms/step - loss: 0.0474 - accuracy: 0.9872 - val_loss: 3.2831 - val_accuracy: 0.6125\n",
            "Epoch 11/30\n",
            "12/12 [==============================] - 5s 375ms/step - loss: 0.0511 - accuracy: 0.9809 - val_loss: 2.5878 - val_accuracy: 0.6500\n",
            "Epoch 12/30\n",
            "12/12 [==============================] - 5s 376ms/step - loss: 0.0266 - accuracy: 0.9954 - val_loss: 2.6446 - val_accuracy: 0.6250\n",
            "Epoch 13/30\n",
            "12/12 [==============================] - 5s 374ms/step - loss: 0.0253 - accuracy: 0.9938 - val_loss: 1.4712 - val_accuracy: 0.7375\n",
            "Epoch 14/30\n",
            "12/12 [==============================] - 5s 378ms/step - loss: 0.0244 - accuracy: 0.9930 - val_loss: 1.1718 - val_accuracy: 0.7500\n",
            "Epoch 15/30\n",
            "12/12 [==============================] - 5s 378ms/step - loss: 0.0226 - accuracy: 0.9924 - val_loss: 0.9066 - val_accuracy: 0.8250\n",
            "Epoch 16/30\n",
            "12/12 [==============================] - 5s 376ms/step - loss: 0.0178 - accuracy: 0.9958 - val_loss: 1.7622 - val_accuracy: 0.6250\n",
            "Epoch 17/30\n",
            "12/12 [==============================] - 4s 373ms/step - loss: 0.0383 - accuracy: 0.9808 - val_loss: 3.0636 - val_accuracy: 0.6750\n",
            "Epoch 18/30\n",
            "12/12 [==============================] - 5s 375ms/step - loss: 0.0526 - accuracy: 0.9798 - val_loss: 1.2216 - val_accuracy: 0.7125\n",
            "Epoch 19/30\n",
            "12/12 [==============================] - 4s 371ms/step - loss: 0.0292 - accuracy: 0.9870 - val_loss: 0.7675 - val_accuracy: 0.7875\n",
            "Epoch 20/30\n",
            "12/12 [==============================] - 4s 370ms/step - loss: 0.0326 - accuracy: 0.9872 - val_loss: 0.6976 - val_accuracy: 0.8000\n",
            "Epoch 21/30\n",
            "12/12 [==============================] - 5s 383ms/step - loss: 0.0140 - accuracy: 0.9972 - val_loss: 0.8620 - val_accuracy: 0.8125\n",
            "Epoch 22/30\n",
            "12/12 [==============================] - 5s 374ms/step - loss: 0.0143 - accuracy: 0.9987 - val_loss: 0.8275 - val_accuracy: 0.8125\n",
            "Epoch 23/30\n",
            "12/12 [==============================] - 5s 384ms/step - loss: 0.0199 - accuracy: 0.9954 - val_loss: 0.5108 - val_accuracy: 0.8750\n",
            "Epoch 24/30\n",
            "12/12 [==============================] - 5s 375ms/step - loss: 0.0160 - accuracy: 0.9964 - val_loss: 0.7108 - val_accuracy: 0.8125\n",
            "Epoch 25/30\n",
            "12/12 [==============================] - 5s 377ms/step - loss: 0.0071 - accuracy: 1.0000 - val_loss: 1.0590 - val_accuracy: 0.7375\n",
            "Epoch 26/30\n",
            "12/12 [==============================] - 5s 376ms/step - loss: 0.0076 - accuracy: 1.0000 - val_loss: 0.8542 - val_accuracy: 0.8250\n",
            "Epoch 27/30\n",
            "12/12 [==============================] - 5s 375ms/step - loss: 0.0067 - accuracy: 0.9983 - val_loss: 0.7975 - val_accuracy: 0.8125\n",
            "Epoch 28/30\n",
            "12/12 [==============================] - 5s 384ms/step - loss: 0.0068 - accuracy: 0.9993 - val_loss: 2.0212 - val_accuracy: 0.7750\n",
            "Epoch 29/30\n",
            "12/12 [==============================] - 5s 375ms/step - loss: 0.0144 - accuracy: 0.9945 - val_loss: 1.5201 - val_accuracy: 0.7250\n",
            "Epoch 30/30\n",
            "12/12 [==============================] - 5s 375ms/step - loss: 0.0119 - accuracy: 0.9979 - val_loss: 0.8600 - val_accuracy: 0.8625\n"
          ],
          "name": "stdout"
        }
      ]
    },
    {
      "cell_type": "markdown",
      "metadata": {
        "id": "eDdxY4qLBo_M"
      },
      "source": [
        "Accuracy calculation"
      ]
    },
    {
      "cell_type": "code",
      "metadata": {
        "colab": {
          "base_uri": "https://localhost:8080/"
        },
        "id": "Z6uNJstlBr87",
        "outputId": "b1d5b2b9-c520-4acd-e515-589b79eaaace"
      },
      "source": [
        "print(\"Test_Accuracy: {:.2f}%\".format(model.evaluate(np.array(X_test), np.array(y_test))[1]*100))\n"
      ],
      "execution_count": 19,
      "outputs": [
        {
          "output_type": "stream",
          "text": [
            "7/7 [==============================] - 0s 44ms/step - loss: 0.5527 - accuracy: 0.8050\n",
            "Test_Accuracy: 80.50%\n"
          ],
          "name": "stdout"
        }
      ]
    },
    {
      "cell_type": "markdown",
      "metadata": {
        "id": "kYrf0ZpaB3X-"
      },
      "source": [
        "visualization of the accuracy and loss function at each epoch"
      ]
    },
    {
      "cell_type": "code",
      "metadata": {
        "colab": {
          "base_uri": "https://localhost:8080/",
          "height": 308
        },
        "id": "0p8Deh5gCGUv",
        "outputId": "8e35d75e-88ea-410e-f548-0b31dc3d4c52"
      },
      "source": [
        "f, (ax1, ax2) = plt.subplots(1, 2, figsize=(12, 4))\n",
        "t = f.suptitle('CNN Performance', fontsize=12)\n",
        "f.subplots_adjust(top=0.85, wspace=0.3)\n",
        "\n",
        "max_epoch = len(history.history['accuracy'])+1\n",
        "epoch_list = list(range(1,max_epoch))\n",
        "ax1.plot(epoch_list, history.history['accuracy'], label='Train Accuracy')\n",
        "ax1.plot(epoch_list, history.history['val_accuracy'], label='Validation Accuracy')\n",
        "ax1.set_xticks(np.arange(1, max_epoch, 5))\n",
        "ax1.set_ylabel('Accuracy Value')\n",
        "ax1.set_xlabel('Epoch')\n",
        "ax1.set_title('Accuracy')\n",
        "l1 = ax1.legend(loc=\"best\")\n",
        "\n",
        "ax2.plot(epoch_list, history.history['loss'], label='Train Loss')\n",
        "ax2.plot(epoch_list, history.history['val_loss'], label='Validation Loss')\n",
        "ax2.set_xticks(np.arange(1, max_epoch, 5))\n",
        "ax2.set_ylabel('Loss Value')\n",
        "ax2.set_xlabel('Epoch')\n",
        "ax2.set_title('Loss')\n",
        "l2 = ax2.legend(loc=\"best\")"
      ],
      "execution_count": 20,
      "outputs": [
        {
          "output_type": "display_data",
          "data": {
            "image/png": "[encoded data removed]",
            "text/plain": [
              "<Figure size 864x288 with 2 Axes>"
            ]
          },
          "metadata": {
            "tags": [],
            "needs_background": "light"
          }
        }
      ]
    },
    {
      "cell_type": "markdown",
      "metadata": {
        "id": "dJYu9GEYCMN-"
      },
      "source": [
        "saving the model"
      ]
    },
    {
      "cell_type": "code",
      "metadata": {
        "id": "N4qqU_MTCOLf"
      },
      "source": [
        "model.save('malaria_cnn.h5')"
      ],
      "execution_count": 21,
      "outputs": []
    }
  ]
}